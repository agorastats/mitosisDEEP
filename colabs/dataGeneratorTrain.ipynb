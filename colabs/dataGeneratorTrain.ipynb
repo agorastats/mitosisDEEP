{
  "cells": [
    {
      "cell_type": "markdown",
      "metadata": {
        "id": "view-in-github",
        "colab_type": "text"
      },
      "source": [
        "<a href=\"https://colab.research.google.com/github/agorastats/mitosisDEEP/blob/master/colabs/dataGeneratorTrain.ipynb\" target=\"_parent\"><img src=\"https://colab.research.google.com/assets/colab-badge.svg\" alt=\"Open In Colab\"/></a>"
      ]
    },
    {
      "cell_type": "code",
      "execution_count": null,
      "metadata": {
        "id": "TJh64IhznWWr"
      },
      "outputs": [],
      "source": [
        "# import packages\n",
        "import os\n",
        "import tensorflow as tf\n",
        "import numpy as np \n",
        "import random\n",
        "import cv2\n",
        "from tensorflow import keras"
      ]
    },
    {
      "cell_type": "code",
      "execution_count": null,
      "metadata": {
        "colab": {
          "base_uri": "https://localhost:8080/"
        },
        "id": "FoxYOzY8nh42",
        "outputId": "9e09f5ad-c9e0-420a-f7da-eaf168b5a1ce"
      },
      "outputs": [
        {
          "output_type": "stream",
          "name": "stdout",
          "text": [
            "Mounted at /content/drive/\n"
          ]
        }
      ],
      "source": [
        "# mount google drive\n",
        "from google.colab import drive\n",
        "drive.mount('/content/drive/',force_remount=True)"
      ]
    },
    {
      "cell_type": "code",
      "execution_count": null,
      "metadata": {
        "id": "1b-r2853X7ma"
      },
      "outputs": [],
      "source": [
        "# get data from google drive (unzip images to read it)\n",
        "!unzip 'drive/MyDrive/mitosis_data/dataset_20220207.zip' -d \"/content/data\"/"
      ]
    },
    {
      "cell_type": "code",
      "execution_count": null,
      "metadata": {
        "colab": {
          "base_uri": "https://localhost:8080/"
        },
        "id": "EQBOEhmIsBqP",
        "outputId": "cf18b621-47da-4da9-9404-038fb664cabe"
      },
      "outputs": [
        {
          "output_type": "stream",
          "name": "stdout",
          "text": [
            "Cloning into 'mitosisDEEP'...\n",
            "warning: --local is ignored\n",
            "remote: Enumerating objects: 370, done.\u001b[K\n",
            "remote: Counting objects: 100% (370/370), done.\u001b[K\n",
            "remote: Compressing objects: 100% (288/288), done.\u001b[K\n",
            "remote: Total 370 (delta 155), reused 277 (delta 74), pack-reused 0\u001b[K\n",
            "Receiving objects: 100% (370/370), 113.10 MiB | 40.66 MiB/s, done.\n",
            "Resolving deltas: 100% (155/155), done.\n"
          ]
        }
      ],
      "source": [
        "# import mitosisDEEP github project\n",
        "!rm -rf mitosisDEEP  # remove if exists\n",
        "# Clone the entire repo\n",
        "!git clone -l -s https://github.com/agorastats/mitosisDEEP.git mitosisDEEP\n",
        "import sys\n",
        "sys.path.insert(0, 'mitosisDEEP/')"
      ]
    },
    {
      "cell_type": "code",
      "execution_count": null,
      "metadata": {
        "id": "VChF_0TqsnKT",
        "colab": {
          "base_uri": "https://localhost:8080/",
          "height": 852
        },
        "outputId": "f4006db8-3288-45ee-92d8-454f3f458d1f"
      },
      "outputs": [
        {
          "output_type": "stream",
          "name": "stdout",
          "text": [
            "Requirement already satisfied: opencv-python.headless~=4.1.2.30 in /usr/local/lib/python3.7/dist-packages (4.1.2.30)\n",
            "Requirement already satisfied: numpy>=1.14.5 in /usr/local/lib/python3.7/dist-packages (from opencv-python.headless~=4.1.2.30) (1.19.5)\n",
            "Requirement already satisfied: albumentations~=1.1.0 in /usr/local/lib/python3.7/dist-packages (1.1.0)\n",
            "Requirement already satisfied: numpy>=1.11.1 in /usr/local/lib/python3.7/dist-packages (from albumentations~=1.1.0) (1.19.5)\n",
            "Requirement already satisfied: scipy in /usr/local/lib/python3.7/dist-packages (from albumentations~=1.1.0) (1.4.1)\n",
            "Requirement already satisfied: qudida>=0.0.4 in /usr/local/lib/python3.7/dist-packages (from albumentations~=1.1.0) (0.0.4)\n",
            "Requirement already satisfied: opencv-python-headless>=4.1.1 in /usr/local/lib/python3.7/dist-packages (from albumentations~=1.1.0) (4.1.2.30)\n",
            "Requirement already satisfied: PyYAML in /usr/local/lib/python3.7/dist-packages (from albumentations~=1.1.0) (3.13)\n",
            "Requirement already satisfied: scikit-image>=0.16.1 in /usr/local/lib/python3.7/dist-packages (from albumentations~=1.1.0) (0.18.3)\n",
            "Requirement already satisfied: scikit-learn>=0.19.1 in /usr/local/lib/python3.7/dist-packages (from qudida>=0.0.4->albumentations~=1.1.0) (1.0.2)\n",
            "Requirement already satisfied: typing-extensions in /usr/local/lib/python3.7/dist-packages (from qudida>=0.0.4->albumentations~=1.1.0) (3.10.0.2)\n",
            "Requirement already satisfied: PyWavelets>=1.1.1 in /usr/local/lib/python3.7/dist-packages (from scikit-image>=0.16.1->albumentations~=1.1.0) (1.2.0)\n",
            "Requirement already satisfied: tifffile>=2019.7.26 in /usr/local/lib/python3.7/dist-packages (from scikit-image>=0.16.1->albumentations~=1.1.0) (2021.11.2)\n",
            "Requirement already satisfied: networkx>=2.0 in /usr/local/lib/python3.7/dist-packages (from scikit-image>=0.16.1->albumentations~=1.1.0) (2.6.3)\n",
            "Requirement already satisfied: imageio>=2.3.0 in /usr/local/lib/python3.7/dist-packages (from scikit-image>=0.16.1->albumentations~=1.1.0) (2.4.1)\n",
            "Requirement already satisfied: matplotlib!=3.0.0,>=2.0.0 in /usr/local/lib/python3.7/dist-packages (from scikit-image>=0.16.1->albumentations~=1.1.0) (3.2.2)\n",
            "Requirement already satisfied: pillow!=7.1.0,!=7.1.1,>=4.3.0 in /usr/local/lib/python3.7/dist-packages (from scikit-image>=0.16.1->albumentations~=1.1.0) (7.1.2)\n",
            "Requirement already satisfied: python-dateutil>=2.1 in /usr/local/lib/python3.7/dist-packages (from matplotlib!=3.0.0,>=2.0.0->scikit-image>=0.16.1->albumentations~=1.1.0) (2.8.2)\n",
            "Requirement already satisfied: cycler>=0.10 in /usr/local/lib/python3.7/dist-packages (from matplotlib!=3.0.0,>=2.0.0->scikit-image>=0.16.1->albumentations~=1.1.0) (0.11.0)\n",
            "Requirement already satisfied: pyparsing!=2.0.4,!=2.1.2,!=2.1.6,>=2.0.1 in /usr/local/lib/python3.7/dist-packages (from matplotlib!=3.0.0,>=2.0.0->scikit-image>=0.16.1->albumentations~=1.1.0) (3.0.7)\n",
            "Requirement already satisfied: kiwisolver>=1.0.1 in /usr/local/lib/python3.7/dist-packages (from matplotlib!=3.0.0,>=2.0.0->scikit-image>=0.16.1->albumentations~=1.1.0) (1.3.2)\n",
            "Requirement already satisfied: six>=1.5 in /usr/local/lib/python3.7/dist-packages (from python-dateutil>=2.1->matplotlib!=3.0.0,>=2.0.0->scikit-image>=0.16.1->albumentations~=1.1.0) (1.15.0)\n",
            "Requirement already satisfied: joblib>=0.11 in /usr/local/lib/python3.7/dist-packages (from scikit-learn>=0.19.1->qudida>=0.0.4->albumentations~=1.1.0) (1.1.0)\n",
            "Requirement already satisfied: threadpoolctl>=2.0.0 in /usr/local/lib/python3.7/dist-packages (from scikit-learn>=0.19.1->qudida>=0.0.4->albumentations~=1.1.0) (3.1.0)\n"
          ]
        },
        {
          "output_type": "stream",
          "name": "stderr",
          "text": [
            "/usr/local/lib/python3.7/dist-packages/albumentations/augmentations/transforms.py:1828: FutureWarning: This class has been deprecated. Please use RandomBrightnessContrast\n",
            "  FutureWarning,\n",
            "/usr/local/lib/python3.7/dist-packages/albumentations/augmentations/transforms.py:1802: FutureWarning: This class has been deprecated. Please use RandomBrightnessContrast\n",
            "  FutureWarning,\n"
          ]
        },
        {
          "output_type": "error",
          "ename": "FileNotFoundError",
          "evalue": "ignored",
          "traceback": [
            "\u001b[0;31m---------------------------------------------------------------------------\u001b[0m",
            "\u001b[0;31mFileNotFoundError\u001b[0m                         Traceback (most recent call last)",
            "\u001b[0;32m<ipython-input-3-feb0d05ad361>\u001b[0m in \u001b[0;36m<module>\u001b[0;34m()\u001b[0m\n\u001b[1;32m      5\u001b[0m \u001b[0;32mfrom\u001b[0m \u001b[0mmitosisDEEP\u001b[0m\u001b[0;34m.\u001b[0m\u001b[0mdataGeneratorProcess\u001b[0m \u001b[0;32mimport\u001b[0m \u001b[0mDataGenerator\u001b[0m\u001b[0;34m\u001b[0m\u001b[0;34m\u001b[0m\u001b[0m\n\u001b[1;32m      6\u001b[0m \u001b[0;32mimport\u001b[0m \u001b[0mpandas\u001b[0m \u001b[0;32mas\u001b[0m \u001b[0mpd\u001b[0m\u001b[0;34m\u001b[0m\u001b[0;34m\u001b[0m\u001b[0m\n\u001b[0;32m----> 7\u001b[0;31m \u001b[0mdf\u001b[0m\u001b[0;34m=\u001b[0m\u001b[0mpd\u001b[0m\u001b[0;34m.\u001b[0m\u001b[0mread_csv\u001b[0m\u001b[0;34m(\u001b[0m\u001b[0;34m'data/infoDF.csv'\u001b[0m\u001b[0;34m,\u001b[0m \u001b[0msep\u001b[0m\u001b[0;34m=\u001b[0m\u001b[0;34m';'\u001b[0m\u001b[0;34m)\u001b[0m\u001b[0;34m\u001b[0m\u001b[0;34m\u001b[0m\u001b[0m\n\u001b[0m\u001b[1;32m      8\u001b[0m \u001b[0mgen\u001b[0m \u001b[0;34m=\u001b[0m \u001b[0mDataGenerator\u001b[0m\u001b[0;34m(\u001b[0m\u001b[0mdf\u001b[0m\u001b[0;34m=\u001b[0m\u001b[0mdf\u001b[0m\u001b[0;34m,\u001b[0m \u001b[0mimg_path\u001b[0m\u001b[0;34m=\u001b[0m\u001b[0;34m'data/images'\u001b[0m\u001b[0;34m,\u001b[0m \u001b[0mmask_path\u001b[0m\u001b[0;34m=\u001b[0m\u001b[0;34m'data/masks'\u001b[0m\u001b[0;34m,\u001b[0m \u001b[0mshuffle\u001b[0m\u001b[0;34m=\u001b[0m\u001b[0;32mFalse\u001b[0m\u001b[0;34m)\u001b[0m\u001b[0;34m\u001b[0m\u001b[0;34m\u001b[0m\u001b[0m\n",
            "\u001b[0;32m/usr/local/lib/python3.7/dist-packages/pandas/util/_decorators.py\u001b[0m in \u001b[0;36mwrapper\u001b[0;34m(*args, **kwargs)\u001b[0m\n\u001b[1;32m    309\u001b[0m                     \u001b[0mstacklevel\u001b[0m\u001b[0;34m=\u001b[0m\u001b[0mstacklevel\u001b[0m\u001b[0;34m,\u001b[0m\u001b[0;34m\u001b[0m\u001b[0;34m\u001b[0m\u001b[0m\n\u001b[1;32m    310\u001b[0m                 )\n\u001b[0;32m--> 311\u001b[0;31m             \u001b[0;32mreturn\u001b[0m \u001b[0mfunc\u001b[0m\u001b[0;34m(\u001b[0m\u001b[0;34m*\u001b[0m\u001b[0margs\u001b[0m\u001b[0;34m,\u001b[0m \u001b[0;34m**\u001b[0m\u001b[0mkwargs\u001b[0m\u001b[0;34m)\u001b[0m\u001b[0;34m\u001b[0m\u001b[0;34m\u001b[0m\u001b[0m\n\u001b[0m\u001b[1;32m    312\u001b[0m \u001b[0;34m\u001b[0m\u001b[0m\n\u001b[1;32m    313\u001b[0m         \u001b[0;32mreturn\u001b[0m \u001b[0mwrapper\u001b[0m\u001b[0;34m\u001b[0m\u001b[0;34m\u001b[0m\u001b[0m\n",
            "\u001b[0;32m/usr/local/lib/python3.7/dist-packages/pandas/io/parsers/readers.py\u001b[0m in \u001b[0;36mread_csv\u001b[0;34m(filepath_or_buffer, sep, delimiter, header, names, index_col, usecols, squeeze, prefix, mangle_dupe_cols, dtype, engine, converters, true_values, false_values, skipinitialspace, skiprows, skipfooter, nrows, na_values, keep_default_na, na_filter, verbose, skip_blank_lines, parse_dates, infer_datetime_format, keep_date_col, date_parser, dayfirst, cache_dates, iterator, chunksize, compression, thousands, decimal, lineterminator, quotechar, quoting, doublequote, escapechar, comment, encoding, encoding_errors, dialect, error_bad_lines, warn_bad_lines, on_bad_lines, delim_whitespace, low_memory, memory_map, float_precision, storage_options)\u001b[0m\n\u001b[1;32m    584\u001b[0m     \u001b[0mkwds\u001b[0m\u001b[0;34m.\u001b[0m\u001b[0mupdate\u001b[0m\u001b[0;34m(\u001b[0m\u001b[0mkwds_defaults\u001b[0m\u001b[0;34m)\u001b[0m\u001b[0;34m\u001b[0m\u001b[0;34m\u001b[0m\u001b[0m\n\u001b[1;32m    585\u001b[0m \u001b[0;34m\u001b[0m\u001b[0m\n\u001b[0;32m--> 586\u001b[0;31m     \u001b[0;32mreturn\u001b[0m \u001b[0m_read\u001b[0m\u001b[0;34m(\u001b[0m\u001b[0mfilepath_or_buffer\u001b[0m\u001b[0;34m,\u001b[0m \u001b[0mkwds\u001b[0m\u001b[0;34m)\u001b[0m\u001b[0;34m\u001b[0m\u001b[0;34m\u001b[0m\u001b[0m\n\u001b[0m\u001b[1;32m    587\u001b[0m \u001b[0;34m\u001b[0m\u001b[0m\n\u001b[1;32m    588\u001b[0m \u001b[0;34m\u001b[0m\u001b[0m\n",
            "\u001b[0;32m/usr/local/lib/python3.7/dist-packages/pandas/io/parsers/readers.py\u001b[0m in \u001b[0;36m_read\u001b[0;34m(filepath_or_buffer, kwds)\u001b[0m\n\u001b[1;32m    480\u001b[0m \u001b[0;34m\u001b[0m\u001b[0m\n\u001b[1;32m    481\u001b[0m     \u001b[0;31m# Create the parser.\u001b[0m\u001b[0;34m\u001b[0m\u001b[0;34m\u001b[0m\u001b[0;34m\u001b[0m\u001b[0m\n\u001b[0;32m--> 482\u001b[0;31m     \u001b[0mparser\u001b[0m \u001b[0;34m=\u001b[0m \u001b[0mTextFileReader\u001b[0m\u001b[0;34m(\u001b[0m\u001b[0mfilepath_or_buffer\u001b[0m\u001b[0;34m,\u001b[0m \u001b[0;34m**\u001b[0m\u001b[0mkwds\u001b[0m\u001b[0;34m)\u001b[0m\u001b[0;34m\u001b[0m\u001b[0;34m\u001b[0m\u001b[0m\n\u001b[0m\u001b[1;32m    483\u001b[0m \u001b[0;34m\u001b[0m\u001b[0m\n\u001b[1;32m    484\u001b[0m     \u001b[0;32mif\u001b[0m \u001b[0mchunksize\u001b[0m \u001b[0;32mor\u001b[0m \u001b[0miterator\u001b[0m\u001b[0;34m:\u001b[0m\u001b[0;34m\u001b[0m\u001b[0;34m\u001b[0m\u001b[0m\n",
            "\u001b[0;32m/usr/local/lib/python3.7/dist-packages/pandas/io/parsers/readers.py\u001b[0m in \u001b[0;36m__init__\u001b[0;34m(self, f, engine, **kwds)\u001b[0m\n\u001b[1;32m    809\u001b[0m             \u001b[0mself\u001b[0m\u001b[0;34m.\u001b[0m\u001b[0moptions\u001b[0m\u001b[0;34m[\u001b[0m\u001b[0;34m\"has_index_names\"\u001b[0m\u001b[0;34m]\u001b[0m \u001b[0;34m=\u001b[0m \u001b[0mkwds\u001b[0m\u001b[0;34m[\u001b[0m\u001b[0;34m\"has_index_names\"\u001b[0m\u001b[0;34m]\u001b[0m\u001b[0;34m\u001b[0m\u001b[0;34m\u001b[0m\u001b[0m\n\u001b[1;32m    810\u001b[0m \u001b[0;34m\u001b[0m\u001b[0m\n\u001b[0;32m--> 811\u001b[0;31m         \u001b[0mself\u001b[0m\u001b[0;34m.\u001b[0m\u001b[0m_engine\u001b[0m \u001b[0;34m=\u001b[0m \u001b[0mself\u001b[0m\u001b[0;34m.\u001b[0m\u001b[0m_make_engine\u001b[0m\u001b[0;34m(\u001b[0m\u001b[0mself\u001b[0m\u001b[0;34m.\u001b[0m\u001b[0mengine\u001b[0m\u001b[0;34m)\u001b[0m\u001b[0;34m\u001b[0m\u001b[0;34m\u001b[0m\u001b[0m\n\u001b[0m\u001b[1;32m    812\u001b[0m \u001b[0;34m\u001b[0m\u001b[0m\n\u001b[1;32m    813\u001b[0m     \u001b[0;32mdef\u001b[0m \u001b[0mclose\u001b[0m\u001b[0;34m(\u001b[0m\u001b[0mself\u001b[0m\u001b[0;34m)\u001b[0m\u001b[0;34m:\u001b[0m\u001b[0;34m\u001b[0m\u001b[0;34m\u001b[0m\u001b[0m\n",
            "\u001b[0;32m/usr/local/lib/python3.7/dist-packages/pandas/io/parsers/readers.py\u001b[0m in \u001b[0;36m_make_engine\u001b[0;34m(self, engine)\u001b[0m\n\u001b[1;32m   1038\u001b[0m             )\n\u001b[1;32m   1039\u001b[0m         \u001b[0;31m# error: Too many arguments for \"ParserBase\"\u001b[0m\u001b[0;34m\u001b[0m\u001b[0;34m\u001b[0m\u001b[0;34m\u001b[0m\u001b[0m\n\u001b[0;32m-> 1040\u001b[0;31m         \u001b[0;32mreturn\u001b[0m \u001b[0mmapping\u001b[0m\u001b[0;34m[\u001b[0m\u001b[0mengine\u001b[0m\u001b[0;34m]\u001b[0m\u001b[0;34m(\u001b[0m\u001b[0mself\u001b[0m\u001b[0;34m.\u001b[0m\u001b[0mf\u001b[0m\u001b[0;34m,\u001b[0m \u001b[0;34m**\u001b[0m\u001b[0mself\u001b[0m\u001b[0;34m.\u001b[0m\u001b[0moptions\u001b[0m\u001b[0;34m)\u001b[0m  \u001b[0;31m# type: ignore[call-arg]\u001b[0m\u001b[0;34m\u001b[0m\u001b[0;34m\u001b[0m\u001b[0m\n\u001b[0m\u001b[1;32m   1041\u001b[0m \u001b[0;34m\u001b[0m\u001b[0m\n\u001b[1;32m   1042\u001b[0m     \u001b[0;32mdef\u001b[0m \u001b[0m_failover_to_python\u001b[0m\u001b[0;34m(\u001b[0m\u001b[0mself\u001b[0m\u001b[0;34m)\u001b[0m\u001b[0;34m:\u001b[0m\u001b[0;34m\u001b[0m\u001b[0;34m\u001b[0m\u001b[0m\n",
            "\u001b[0;32m/usr/local/lib/python3.7/dist-packages/pandas/io/parsers/c_parser_wrapper.py\u001b[0m in \u001b[0;36m__init__\u001b[0;34m(self, src, **kwds)\u001b[0m\n\u001b[1;32m     49\u001b[0m \u001b[0;34m\u001b[0m\u001b[0m\n\u001b[1;32m     50\u001b[0m         \u001b[0;31m# open handles\u001b[0m\u001b[0;34m\u001b[0m\u001b[0;34m\u001b[0m\u001b[0;34m\u001b[0m\u001b[0m\n\u001b[0;32m---> 51\u001b[0;31m         \u001b[0mself\u001b[0m\u001b[0;34m.\u001b[0m\u001b[0m_open_handles\u001b[0m\u001b[0;34m(\u001b[0m\u001b[0msrc\u001b[0m\u001b[0;34m,\u001b[0m \u001b[0mkwds\u001b[0m\u001b[0;34m)\u001b[0m\u001b[0;34m\u001b[0m\u001b[0;34m\u001b[0m\u001b[0m\n\u001b[0m\u001b[1;32m     52\u001b[0m         \u001b[0;32massert\u001b[0m \u001b[0mself\u001b[0m\u001b[0;34m.\u001b[0m\u001b[0mhandles\u001b[0m \u001b[0;32mis\u001b[0m \u001b[0;32mnot\u001b[0m \u001b[0;32mNone\u001b[0m\u001b[0;34m\u001b[0m\u001b[0;34m\u001b[0m\u001b[0m\n\u001b[1;32m     53\u001b[0m \u001b[0;34m\u001b[0m\u001b[0m\n",
            "\u001b[0;32m/usr/local/lib/python3.7/dist-packages/pandas/io/parsers/base_parser.py\u001b[0m in \u001b[0;36m_open_handles\u001b[0;34m(self, src, kwds)\u001b[0m\n\u001b[1;32m    227\u001b[0m             \u001b[0mmemory_map\u001b[0m\u001b[0;34m=\u001b[0m\u001b[0mkwds\u001b[0m\u001b[0;34m.\u001b[0m\u001b[0mget\u001b[0m\u001b[0;34m(\u001b[0m\u001b[0;34m\"memory_map\"\u001b[0m\u001b[0;34m,\u001b[0m \u001b[0;32mFalse\u001b[0m\u001b[0;34m)\u001b[0m\u001b[0;34m,\u001b[0m\u001b[0;34m\u001b[0m\u001b[0;34m\u001b[0m\u001b[0m\n\u001b[1;32m    228\u001b[0m             \u001b[0mstorage_options\u001b[0m\u001b[0;34m=\u001b[0m\u001b[0mkwds\u001b[0m\u001b[0;34m.\u001b[0m\u001b[0mget\u001b[0m\u001b[0;34m(\u001b[0m\u001b[0;34m\"storage_options\"\u001b[0m\u001b[0;34m,\u001b[0m \u001b[0;32mNone\u001b[0m\u001b[0;34m)\u001b[0m\u001b[0;34m,\u001b[0m\u001b[0;34m\u001b[0m\u001b[0;34m\u001b[0m\u001b[0m\n\u001b[0;32m--> 229\u001b[0;31m             \u001b[0merrors\u001b[0m\u001b[0;34m=\u001b[0m\u001b[0mkwds\u001b[0m\u001b[0;34m.\u001b[0m\u001b[0mget\u001b[0m\u001b[0;34m(\u001b[0m\u001b[0;34m\"encoding_errors\"\u001b[0m\u001b[0;34m,\u001b[0m \u001b[0;34m\"strict\"\u001b[0m\u001b[0;34m)\u001b[0m\u001b[0;34m,\u001b[0m\u001b[0;34m\u001b[0m\u001b[0;34m\u001b[0m\u001b[0m\n\u001b[0m\u001b[1;32m    230\u001b[0m         )\n\u001b[1;32m    231\u001b[0m \u001b[0;34m\u001b[0m\u001b[0m\n",
            "\u001b[0;32m/usr/local/lib/python3.7/dist-packages/pandas/io/common.py\u001b[0m in \u001b[0;36mget_handle\u001b[0;34m(path_or_buf, mode, encoding, compression, memory_map, is_text, errors, storage_options)\u001b[0m\n\u001b[1;32m    705\u001b[0m                 \u001b[0mencoding\u001b[0m\u001b[0;34m=\u001b[0m\u001b[0mioargs\u001b[0m\u001b[0;34m.\u001b[0m\u001b[0mencoding\u001b[0m\u001b[0;34m,\u001b[0m\u001b[0;34m\u001b[0m\u001b[0;34m\u001b[0m\u001b[0m\n\u001b[1;32m    706\u001b[0m                 \u001b[0merrors\u001b[0m\u001b[0;34m=\u001b[0m\u001b[0merrors\u001b[0m\u001b[0;34m,\u001b[0m\u001b[0;34m\u001b[0m\u001b[0;34m\u001b[0m\u001b[0m\n\u001b[0;32m--> 707\u001b[0;31m                 \u001b[0mnewline\u001b[0m\u001b[0;34m=\u001b[0m\u001b[0;34m\"\"\u001b[0m\u001b[0;34m,\u001b[0m\u001b[0;34m\u001b[0m\u001b[0;34m\u001b[0m\u001b[0m\n\u001b[0m\u001b[1;32m    708\u001b[0m             )\n\u001b[1;32m    709\u001b[0m         \u001b[0;32melse\u001b[0m\u001b[0;34m:\u001b[0m\u001b[0;34m\u001b[0m\u001b[0;34m\u001b[0m\u001b[0m\n",
            "\u001b[0;31mFileNotFoundError\u001b[0m: [Errno 2] No such file or directory: 'data/infoDF.csv'"
          ]
        }
      ],
      "source": [
        "# define generator\n",
        "!pip install opencv-python.headless~=4.1.2.30\n",
        "!pip install albumentations~=1.1.0\n",
        "\n",
        "from mitosisDEEP.dataGeneratorProcess import DataGenerator\n",
        "import pandas as pd \n",
        "df=pd.read_csv('data/infoDF.csv', sep=';')\n",
        "gen = DataGenerator(df=df, img_path='data/images', mask_path='data/masks', shuffle=False)"
      ]
    },
    {
      "cell_type": "code",
      "execution_count": null,
      "metadata": {
        "id": "72PBJcwLZM_T"
      },
      "outputs": [],
      "source": [
        "df.head(3)"
      ]
    },
    {
      "cell_type": "code",
      "execution_count": null,
      "metadata": {
        "id": "PWcFSH0BrFCA"
      },
      "outputs": [],
      "source": [
        "img, masks = gen.__getitem__(0)"
      ]
    },
    {
      "cell_type": "code",
      "execution_count": null,
      "metadata": {
        "id": "aTwrFCV8bxLI"
      },
      "outputs": [],
      "source": [
        "# keras utils\n",
        "from keras import backend as K\n",
        "\n",
        "def dice_coef(y_true, y_pred):\n",
        "    y_true_f = K.flatten(y_true)\n",
        "    y_pred_f = K.flatten(y_pred)\n",
        "    intersection = K.sum(y_true_f * y_pred_f)\n",
        "    return (2. * intersection + K.epsilon()) / (K.sum(y_true_f) + K.sum(y_pred_f) + K.epsilon())\n",
        "\n",
        "def dice_loss(y_true, y_pred):\n",
        "  numerator = 2 * tf.reduce_sum(y_true * y_pred, axis=(1,2,3))\n",
        "  denominator = tf.reduce_sum(y_true + y_pred, axis=(1,2,3))\n",
        "  return 1 - numerator / denominator"
      ]
    },
    {
      "cell_type": "code",
      "execution_count": null,
      "metadata": {
        "id": "IHftlp1mcCaE"
      },
      "outputs": [],
      "source": [
        "# load pretrained unet model\n",
        "from keras.models import load_model\n",
        "model = load_model(\"drive/MyDrive/mitosis_data/UNET-Best.h5\", compile=False)\n",
        "# model.save_weights(\"drive/MyDrive/mitosis_data/pretrained_weights.h5\")\n",
        "\n",
        "# build model\n",
        "# adapted Adam optimizer with low learning rate\n",
        "opt_adam = keras.optimizers.Adam(learning_rate=0.001)\n",
        "model.compile(optimizer=opt_adam, loss=dice_loss, metrics=[dice_coef])\n",
        "# model.load_weights(\"drive/MyDrive/mitosis_data/pretrained_weights.h5\")\n",
        "# model.load_weights(\"drive/MyDrive/mitosis_data/proves_dataset20220207_pretrained_unet.h5\")\n",
        "model.load_weights(\"drive/MyDrive/mitosis_data/proves_dataset20220207_pretrained_unet_v2.h5\")"
      ]
    },
    {
      "cell_type": "code",
      "execution_count": null,
      "metadata": {
        "colab": {
          "base_uri": "https://localhost:8080/"
        },
        "id": "WSAjJHWrcGkL",
        "outputId": "d8a1d3ca-4910-49e5-cbca-5acb1597c374"
      },
      "outputs": [
        {
          "output_type": "stream",
          "name": "stdout",
          "text": [
            "Epoch 1/100\n",
            "657/657 [==============================] - ETA: 0s - loss: 0.5704 - dice_coef: 0.6222\n",
            "Epoch 00001: val_loss improved from inf to 0.59543, saving model to drive/MyDrive/mitosis_data/proves_dataset20220207_pretrained_unet_v3.h5\n",
            "657/657 [==============================] - 124s 181ms/step - loss: 0.5704 - dice_coef: 0.6222 - val_loss: 0.5954 - val_dice_coef: 0.5665 - lr: 0.0010\n",
            "Epoch 2/100\n",
            "657/657 [==============================] - ETA: 0s - loss: 0.5790 - dice_coef: 0.5997\n",
            "Epoch 00002: val_loss did not improve from 0.59543\n",
            "657/657 [==============================] - 118s 179ms/step - loss: 0.5790 - dice_coef: 0.5997 - val_loss: 0.7515 - val_dice_coef: 0.4574 - lr: 0.0010\n",
            "Epoch 3/100\n",
            "657/657 [==============================] - ETA: 0s - loss: 0.5847 - dice_coef: 0.5877\n",
            "Epoch 00003: val_loss improved from 0.59543 to 0.55531, saving model to drive/MyDrive/mitosis_data/proves_dataset20220207_pretrained_unet_v3.h5\n",
            "657/657 [==============================] - 116s 177ms/step - loss: 0.5847 - dice_coef: 0.5877 - val_loss: 0.5553 - val_dice_coef: 0.7049 - lr: 0.0010\n",
            "Epoch 4/100\n",
            "657/657 [==============================] - ETA: 0s - loss: 0.5793 - dice_coef: 0.6143\n",
            "Epoch 00004: val_loss did not improve from 0.55531\n",
            "657/657 [==============================] - 116s 177ms/step - loss: 0.5793 - dice_coef: 0.6143 - val_loss: 0.5847 - val_dice_coef: 0.5651 - lr: 0.0010\n",
            "Epoch 5/100\n",
            "657/657 [==============================] - ETA: 0s - loss: 0.5829 - dice_coef: 0.5947\n",
            "Epoch 00005: val_loss did not improve from 0.55531\n",
            "657/657 [==============================] - 116s 176ms/step - loss: 0.5829 - dice_coef: 0.5947 - val_loss: 0.5859 - val_dice_coef: 0.6765 - lr: 0.0010\n",
            "Epoch 6/100\n",
            "657/657 [==============================] - ETA: 0s - loss: 0.5814 - dice_coef: 0.6043\n",
            "Epoch 00006: val_loss did not improve from 0.55531\n",
            "657/657 [==============================] - 117s 179ms/step - loss: 0.5814 - dice_coef: 0.6043 - val_loss: 0.5941 - val_dice_coef: 0.5965 - lr: 0.0010\n",
            "Epoch 7/100\n",
            "657/657 [==============================] - ETA: 0s - loss: 0.5746 - dice_coef: 0.5958\n",
            "Epoch 00007: val_loss did not improve from 0.55531\n",
            "657/657 [==============================] - 116s 177ms/step - loss: 0.5746 - dice_coef: 0.5958 - val_loss: 0.5607 - val_dice_coef: 0.7017 - lr: 0.0010\n",
            "Epoch 8/100\n",
            "657/657 [==============================] - ETA: 0s - loss: 0.5762 - dice_coef: 0.6201\n",
            "Epoch 00008: val_loss did not improve from 0.55531\n",
            "657/657 [==============================] - 116s 176ms/step - loss: 0.5762 - dice_coef: 0.6201 - val_loss: 0.5572 - val_dice_coef: 0.6847 - lr: 0.0010\n",
            "Epoch 9/100\n",
            "657/657 [==============================] - ETA: 0s - loss: 0.5792 - dice_coef: 0.5843\n",
            "Epoch 00009: val_loss did not improve from 0.55531\n",
            "657/657 [==============================] - 116s 177ms/step - loss: 0.5792 - dice_coef: 0.5843 - val_loss: 0.5723 - val_dice_coef: 0.6254 - lr: 0.0010\n",
            "Epoch 10/100\n",
            "657/657 [==============================] - ETA: 0s - loss: 0.5851 - dice_coef: 0.5609\n",
            "Epoch 00010: val_loss did not improve from 0.55531\n",
            "657/657 [==============================] - 116s 177ms/step - loss: 0.5851 - dice_coef: 0.5609 - val_loss: 0.5636 - val_dice_coef: 0.6414 - lr: 0.0010\n",
            "Epoch 11/100\n",
            "657/657 [==============================] - ETA: 0s - loss: 0.5721 - dice_coef: 0.6226\n",
            "Epoch 00011: val_loss did not improve from 0.55531\n",
            "657/657 [==============================] - 116s 177ms/step - loss: 0.5721 - dice_coef: 0.6226 - val_loss: 0.5574 - val_dice_coef: 0.7216 - lr: 0.0010\n",
            "Epoch 12/100\n",
            "657/657 [==============================] - ETA: 0s - loss: 0.5727 - dice_coef: 0.6370\n",
            "Epoch 00012: val_loss did not improve from 0.55531\n",
            "657/657 [==============================] - 116s 177ms/step - loss: 0.5727 - dice_coef: 0.6370 - val_loss: 0.5883 - val_dice_coef: 0.6531 - lr: 0.0010\n",
            "Epoch 13/100\n",
            "657/657 [==============================] - ETA: 0s - loss: 0.5712 - dice_coef: 0.6056\n",
            "Epoch 00013: val_loss improved from 0.55531 to 0.54858, saving model to drive/MyDrive/mitosis_data/proves_dataset20220207_pretrained_unet_v3.h5\n",
            "657/657 [==============================] - 116s 177ms/step - loss: 0.5712 - dice_coef: 0.6056 - val_loss: 0.5486 - val_dice_coef: 0.6807 - lr: 0.0010\n",
            "Epoch 14/100\n",
            "657/657 [==============================] - ETA: 0s - loss: 0.5732 - dice_coef: 0.6041\n",
            "Epoch 00014: val_loss did not improve from 0.54858\n",
            "657/657 [==============================] - 116s 177ms/step - loss: 0.5732 - dice_coef: 0.6041 - val_loss: 0.5557 - val_dice_coef: 0.7005 - lr: 0.0010\n",
            "Epoch 15/100\n",
            "657/657 [==============================] - ETA: 0s - loss: 0.5807 - dice_coef: 0.6128\n",
            "Epoch 00015: val_loss did not improve from 0.54858\n",
            "657/657 [==============================] - 116s 177ms/step - loss: 0.5807 - dice_coef: 0.6128 - val_loss: 0.5954 - val_dice_coef: 0.6464 - lr: 0.0010\n",
            "Epoch 16/100\n",
            "657/657 [==============================] - ETA: 0s - loss: 0.5716 - dice_coef: 0.6136\n",
            "Epoch 00016: val_loss did not improve from 0.54858\n",
            "657/657 [==============================] - 116s 177ms/step - loss: 0.5716 - dice_coef: 0.6136 - val_loss: 0.5608 - val_dice_coef: 0.7104 - lr: 0.0010\n",
            "Epoch 17/100\n",
            "657/657 [==============================] - ETA: 0s - loss: 0.5700 - dice_coef: 0.6107\n",
            "Epoch 00017: val_loss did not improve from 0.54858\n",
            "657/657 [==============================] - 116s 176ms/step - loss: 0.5700 - dice_coef: 0.6107 - val_loss: 0.5635 - val_dice_coef: 0.6505 - lr: 0.0010\n",
            "Epoch 18/100\n",
            "657/657 [==============================] - ETA: 0s - loss: 0.5711 - dice_coef: 0.6129\n",
            "Epoch 00018: val_loss did not improve from 0.54858\n",
            "657/657 [==============================] - 116s 176ms/step - loss: 0.5711 - dice_coef: 0.6129 - val_loss: 0.5743 - val_dice_coef: 0.6525 - lr: 0.0010\n",
            "Epoch 19/100\n",
            "657/657 [==============================] - ETA: 0s - loss: 0.5738 - dice_coef: 0.6020\n",
            "Epoch 00019: val_loss did not improve from 0.54858\n",
            "657/657 [==============================] - 117s 177ms/step - loss: 0.5738 - dice_coef: 0.6020 - val_loss: 0.6200 - val_dice_coef: 0.5361 - lr: 0.0010\n",
            "Epoch 20/100\n",
            "657/657 [==============================] - ETA: 0s - loss: 0.5702 - dice_coef: 0.6194\n",
            "Epoch 00020: val_loss did not improve from 0.54858\n",
            "657/657 [==============================] - 117s 178ms/step - loss: 0.5702 - dice_coef: 0.6194 - val_loss: 0.5859 - val_dice_coef: 0.5974 - lr: 0.0010\n",
            "Epoch 21/100\n",
            "657/657 [==============================] - ETA: 0s - loss: 0.5655 - dice_coef: 0.6203\n",
            "Epoch 00021: val_loss did not improve from 0.54858\n",
            "657/657 [==============================] - 116s 177ms/step - loss: 0.5655 - dice_coef: 0.6203 - val_loss: 0.5500 - val_dice_coef: 0.6620 - lr: 0.0010\n",
            "Epoch 22/100\n",
            "657/657 [==============================] - ETA: 0s - loss: 0.5698 - dice_coef: 0.6247\n",
            "Epoch 00022: val_loss did not improve from 0.54858\n",
            "657/657 [==============================] - 116s 177ms/step - loss: 0.5698 - dice_coef: 0.6247 - val_loss: 0.5601 - val_dice_coef: 0.6192 - lr: 0.0010\n",
            "Epoch 23/100\n",
            "657/657 [==============================] - ETA: 0s - loss: 0.5681 - dice_coef: 0.6207\n",
            "Epoch 00023: val_loss did not improve from 0.54858\n",
            "\n",
            "Epoch 00023: ReduceLROnPlateau reducing learning rate to 0.00020000000949949026.\n",
            "657/657 [==============================] - 116s 177ms/step - loss: 0.5681 - dice_coef: 0.6207 - val_loss: 0.5724 - val_dice_coef: 0.6316 - lr: 0.0010\n",
            "Epoch 24/100\n",
            "657/657 [==============================] - ETA: 0s - loss: 0.5569 - dice_coef: 0.6497\n",
            "Epoch 00024: val_loss improved from 0.54858 to 0.53630, saving model to drive/MyDrive/mitosis_data/proves_dataset20220207_pretrained_unet_v3.h5\n",
            "657/657 [==============================] - 117s 178ms/step - loss: 0.5569 - dice_coef: 0.6497 - val_loss: 0.5363 - val_dice_coef: 0.7259 - lr: 2.0000e-04\n",
            "Epoch 25/100\n",
            "657/657 [==============================] - ETA: 0s - loss: 0.5507 - dice_coef: 0.6522\n",
            "Epoch 00025: val_loss did not improve from 0.53630\n",
            "657/657 [==============================] - 116s 176ms/step - loss: 0.5507 - dice_coef: 0.6522 - val_loss: 0.5391 - val_dice_coef: 0.6894 - lr: 2.0000e-04\n",
            "Epoch 26/100\n",
            "657/657 [==============================] - ETA: 0s - loss: 0.5474 - dice_coef: 0.6657\n",
            "Epoch 00026: val_loss improved from 0.53630 to 0.52973, saving model to drive/MyDrive/mitosis_data/proves_dataset20220207_pretrained_unet_v3.h5\n",
            "657/657 [==============================] - 115s 175ms/step - loss: 0.5474 - dice_coef: 0.6657 - val_loss: 0.5297 - val_dice_coef: 0.7391 - lr: 2.0000e-04\n",
            "Epoch 27/100\n",
            "657/657 [==============================] - ETA: 0s - loss: 0.5457 - dice_coef: 0.6692\n",
            "Epoch 00027: val_loss improved from 0.52973 to 0.52755, saving model to drive/MyDrive/mitosis_data/proves_dataset20220207_pretrained_unet_v3.h5\n",
            "657/657 [==============================] - 115s 175ms/step - loss: 0.5457 - dice_coef: 0.6692 - val_loss: 0.5275 - val_dice_coef: 0.7597 - lr: 2.0000e-04\n",
            "Epoch 28/100\n",
            "657/657 [==============================] - ETA: 0s - loss: 0.5433 - dice_coef: 0.6757\n",
            "Epoch 00028: val_loss did not improve from 0.52755\n",
            "657/657 [==============================] - 114s 174ms/step - loss: 0.5433 - dice_coef: 0.6757 - val_loss: 0.5346 - val_dice_coef: 0.7093 - lr: 2.0000e-04\n",
            "Epoch 29/100\n",
            "657/657 [==============================] - ETA: 0s - loss: 0.5452 - dice_coef: 0.6733\n",
            "Epoch 00029: val_loss did not improve from 0.52755\n",
            "657/657 [==============================] - 114s 174ms/step - loss: 0.5452 - dice_coef: 0.6733 - val_loss: 0.5327 - val_dice_coef: 0.7345 - lr: 2.0000e-04\n",
            "Epoch 30/100\n",
            "657/657 [==============================] - ETA: 0s - loss: 0.5440 - dice_coef: 0.6778\n",
            "Epoch 00030: val_loss did not improve from 0.52755\n",
            "657/657 [==============================] - 115s 175ms/step - loss: 0.5440 - dice_coef: 0.6778 - val_loss: 0.5292 - val_dice_coef: 0.7352 - lr: 2.0000e-04\n",
            "Epoch 31/100\n",
            "657/657 [==============================] - ETA: 0s - loss: 0.5410 - dice_coef: 0.6766\n",
            "Epoch 00031: val_loss did not improve from 0.52755\n",
            "657/657 [==============================] - 115s 175ms/step - loss: 0.5410 - dice_coef: 0.6766 - val_loss: 0.5298 - val_dice_coef: 0.7326 - lr: 2.0000e-04\n",
            "Epoch 32/100\n",
            "657/657 [==============================] - ETA: 0s - loss: 0.5387 - dice_coef: 0.6698\n",
            "Epoch 00032: val_loss did not improve from 0.52755\n",
            "657/657 [==============================] - 115s 174ms/step - loss: 0.5387 - dice_coef: 0.6698 - val_loss: 0.5281 - val_dice_coef: 0.7254 - lr: 2.0000e-04\n",
            "Epoch 33/100\n",
            "657/657 [==============================] - ETA: 0s - loss: 0.5425 - dice_coef: 0.6583\n",
            "Epoch 00033: val_loss improved from 0.52755 to 0.52614, saving model to drive/MyDrive/mitosis_data/proves_dataset20220207_pretrained_unet_v3.h5\n",
            "657/657 [==============================] - 115s 175ms/step - loss: 0.5425 - dice_coef: 0.6583 - val_loss: 0.5261 - val_dice_coef: 0.7530 - lr: 2.0000e-04\n",
            "Epoch 34/100\n",
            "657/657 [==============================] - ETA: 0s - loss: 0.5424 - dice_coef: 0.6778\n",
            "Epoch 00034: val_loss improved from 0.52614 to 0.52614, saving model to drive/MyDrive/mitosis_data/proves_dataset20220207_pretrained_unet_v3.h5\n",
            "657/657 [==============================] - 115s 175ms/step - loss: 0.5424 - dice_coef: 0.6778 - val_loss: 0.5261 - val_dice_coef: 0.7222 - lr: 2.0000e-04\n",
            "Epoch 35/100\n",
            "657/657 [==============================] - ETA: 0s - loss: 0.5394 - dice_coef: 0.6580\n",
            "Epoch 00035: val_loss improved from 0.52614 to 0.52053, saving model to drive/MyDrive/mitosis_data/proves_dataset20220207_pretrained_unet_v3.h5\n",
            "657/657 [==============================] - 115s 176ms/step - loss: 0.5394 - dice_coef: 0.6580 - val_loss: 0.5205 - val_dice_coef: 0.7316 - lr: 2.0000e-04\n",
            "Epoch 36/100\n",
            "657/657 [==============================] - ETA: 0s - loss: 0.5385 - dice_coef: 0.6723\n",
            "Epoch 00036: val_loss did not improve from 0.52053\n",
            "657/657 [==============================] - 116s 176ms/step - loss: 0.5385 - dice_coef: 0.6723 - val_loss: 0.5234 - val_dice_coef: 0.7404 - lr: 2.0000e-04\n",
            "Epoch 37/100\n",
            "657/657 [==============================] - ETA: 0s - loss: 0.5381 - dice_coef: 0.6760\n",
            "Epoch 00037: val_loss did not improve from 0.52053\n",
            "657/657 [==============================] - 116s 176ms/step - loss: 0.5381 - dice_coef: 0.6760 - val_loss: 0.5260 - val_dice_coef: 0.7454 - lr: 2.0000e-04\n",
            "Epoch 38/100\n",
            "657/657 [==============================] - ETA: 0s - loss: 0.5394 - dice_coef: 0.6778\n",
            "Epoch 00038: val_loss did not improve from 0.52053\n",
            "657/657 [==============================] - 116s 176ms/step - loss: 0.5394 - dice_coef: 0.6778 - val_loss: 0.5217 - val_dice_coef: 0.7247 - lr: 2.0000e-04\n",
            "Epoch 39/100\n",
            "657/657 [==============================] - ETA: 0s - loss: 0.5392 - dice_coef: 0.6643\n",
            "Epoch 00039: val_loss did not improve from 0.52053\n",
            "657/657 [==============================] - 116s 176ms/step - loss: 0.5392 - dice_coef: 0.6643 - val_loss: 0.5285 - val_dice_coef: 0.7139 - lr: 2.0000e-04\n",
            "Epoch 40/100\n",
            "657/657 [==============================] - ETA: 0s - loss: 0.5346 - dice_coef: 0.6845\n",
            "Epoch 00040: val_loss improved from 0.52053 to 0.51871, saving model to drive/MyDrive/mitosis_data/proves_dataset20220207_pretrained_unet_v3.h5\n",
            "657/657 [==============================] - 115s 176ms/step - loss: 0.5346 - dice_coef: 0.6845 - val_loss: 0.5187 - val_dice_coef: 0.7465 - lr: 2.0000e-04\n",
            "Epoch 41/100\n",
            "657/657 [==============================] - ETA: 0s - loss: 0.5368 - dice_coef: 0.6889\n",
            "Epoch 00041: val_loss improved from 0.51871 to 0.51831, saving model to drive/MyDrive/mitosis_data/proves_dataset20220207_pretrained_unet_v3.h5\n",
            "657/657 [==============================] - 116s 176ms/step - loss: 0.5368 - dice_coef: 0.6889 - val_loss: 0.5183 - val_dice_coef: 0.7481 - lr: 2.0000e-04\n",
            "Epoch 42/100\n",
            "657/657 [==============================] - ETA: 0s - loss: 0.5363 - dice_coef: 0.6926\n",
            "Epoch 00042: val_loss did not improve from 0.51831\n",
            "657/657 [==============================] - 115s 175ms/step - loss: 0.5363 - dice_coef: 0.6926 - val_loss: 0.5207 - val_dice_coef: 0.7396 - lr: 2.0000e-04\n",
            "Epoch 43/100\n",
            " 98/657 [===>..........................] - ETA: 1:15 - loss: 0.5328 - dice_coef: 0.6750"
          ]
        }
      ],
      "source": [
        "# training step\n",
        "\n",
        "# early stop if patience epochs not improve val_loss\n",
        "early_stop = tf.keras.callbacks.EarlyStopping(monitor='val_loss', patience=20)\n",
        "\n",
        "# reduce learning rate by factor if not improve val_loss in patience epochs\n",
        "reduce_lr = tf.keras.callbacks.ReduceLROnPlateau(monitor='val_loss', factor=0.2, patience=10, min_lr=0.00001, verbose=1)\n",
        "\n",
        "# path to save new weights, only save best ones\n",
        "output_name = 'proves_dataset20220207_pretrained_unet_v3'\n",
        "# output_weights_path=\"drive/MyDrive/mitosis_data/%s-{epoch:02d}-{val_dice_coef:.3f}.h5\" % str(output_name)\n",
        "output_weights_path=\"drive/MyDrive/mitosis_data/%s.h5\" % str(output_name)\n",
        "checkpoint = tf.keras.callbacks.ModelCheckpoint(output_weights_path, monitor='val_loss', verbose=1, \n",
        "                             save_best_only=True, mode='min', save_weights_only = True)\n",
        "\n",
        "\n",
        "# callback save logs as csv\n",
        "from keras.callbacks import CSVLogger\n",
        "from mitosisDEEP.utils.loadAndSaveResults import store_data_frame\n",
        "store_data_frame(pd.DataFrame(), 'logsCSV/%s.csv' % str(output_name))\n",
        "csv_logger = CSVLogger('logsCSV/%s.csv' % str(output_name), append=True, separator=';')\n",
        "\n",
        "\n",
        "import shutil\n",
        "class UpdateLoggerToDrive(tf.keras.callbacks.Callback):\n",
        "    def __init__(self, N, output_name):\n",
        "        self.N = N\n",
        "        self.epoch = 0\n",
        "        self.output_name = output_name\n",
        "        self.logCSV = 'logsCSV/%s.csv' % str(self.output_name)\n",
        "\n",
        "    def on_batch_end(self, epoch, logs={}):\n",
        "        if self.epoch % self.N == 0:\n",
        "          shutil.copy(self.logCSV, '/content/drive/MyDrive/mitosis_data/logs/%s.csv' % str(self.output_name))\n",
        "        self.epoch += 1\n",
        "\n",
        "update_log_to_drive = UpdateLoggerToDrive(5, output_name)\n",
        "\n",
        "\n",
        "# tensorboard to visualize model\n",
        "# ref1: https://colab.research.google.com/github/Yash0330/Callbacks-in-Keras/blob/master/Introduction_to_callbacks.ipynb\n",
        "# ref2: https://colab.research.google.com/github/tensorflow/tensorboard/blob/master/docs/tensorboard_in_notebooks.ipynb#scrollTo=lpUO9HqUKP6z\n",
        "\n",
        "# !rm -rf ./logs/ # to delete all previous runs\n",
        "# import datetime\n",
        "# logdir = os.path.join(\"logs\", datetime.datetime.now().strftime(\"%Y%m%d-%H%M%S\"))\n",
        "# tensorboard = keras.callbacks.TensorBoard(log_dir=logdir, histogram_freq=0, write_graph=True, write_images=True)  # add tensorboard to callbacks\n",
        "# %tensorboard --logdir logs\n",
        "\n",
        "\n",
        "\n",
        "# random choice for val images\n",
        "idx = np.random.choice(len(df), int(len(df) * 0.7), replace=False)\n",
        "trainDF = df.iloc[idx, :]\n",
        "valDF = df.iloc[~idx, :]\n",
        "training_generator = DataGenerator(df=trainDF, batch_size=4, img_path='data/images', mask_path='data/masks', shuffle=True)\n",
        "validation_generator = DataGenerator(df=valDF, batch_size=4,  img_path='data/images', mask_path='data/masks', augmentations=None) \n",
        "EPOCH_NUMBER=100\n",
        "\n",
        "\n",
        "\n",
        "history = model.fit(training_generator, validation_data=validation_generator, verbose=1,\n",
        "                    epochs=EPOCH_NUMBER, callbacks=[early_stop, checkpoint, reduce_lr, csv_logger, update_log_to_drive]) # add tensorbard callback\n",
        "\n",
        "# get_callbacks_list(output_name)\n",
        "\n"
      ]
    },
    {
      "cell_type": "code",
      "source": [
        "# evaluate mitosis\n",
        "# ref: https://www.youtube.com/watch?v=HrGn4uFrMOM\n",
        "from google.colab.patches import cv2_imshow\n",
        "!pip install patchify\n",
        "from patchify import patchify, unpatchify\n",
        "PATCH_SIZE  = 256\n",
        "# test_path = 'drive/MyDrive/mitosis_data/A00_01.bmp'\n",
        "# test_path = 'drive/MyDrive/mitosis_data/A01_09.bmp'  # validation\n",
        "# test_path = 'drive/MyDrive/mitosis_data/30.jpg'   \n",
        "# test_path = 'drive/MyDrive/mitosis_data/23.jpg'   \n",
        "test_path = 'drive/MyDrive/mitosis_data/25.jpg'   \n",
        "test_image = cv2.imread(test_path)\n",
        "test_image = cv2.cvtColor(test_image, cv2.COLOR_BGR2RGB)\n",
        "# cv2_imshow(test_image)"
      ],
      "metadata": {
        "colab": {
          "base_uri": "https://localhost:8080/"
        },
        "id": "eiCmcg7mK4va",
        "outputId": "2ef83f0b-38a5-4d30-f74c-f24149a8bf13"
      },
      "execution_count": null,
      "outputs": [
        {
          "output_type": "stream",
          "name": "stdout",
          "text": [
            "Requirement already satisfied: patchify in /usr/local/lib/python3.7/dist-packages (0.2.3)\n",
            "Requirement already satisfied: numpy<2,>=1 in /usr/local/lib/python3.7/dist-packages (from patchify) (1.19.5)\n"
          ]
        }
      ]
    },
    {
      "cell_type": "code",
      "source": [
        "# predict using patchify\n",
        "size_x = (test_image.shape[1]//PATCH_SIZE)*PATCH_SIZE   # nearest size divisible by our patch size\n",
        "size_y = (test_image.shape[0]//PATCH_SIZE)*PATCH_SIZE   # nearest size divisible by our patch size\n",
        "print('test image size: ', test_image.shape)\n",
        "test_image = cv2.resize(test_image, (size_x, size_y))\n",
        "print('test image resized size: ', test_image.shape)\n",
        "\n",
        "patches = patchify(test_image, (PATCH_SIZE, PATCH_SIZE, 3), step=PATCH_SIZE)  # step same as patch for not overlap patches\n",
        "patches = patches[:, :, 0, :, :, :]\n",
        "predicted_patches = []\n",
        "for i in range(patches.shape[0]):\n",
        "    for j in range(patches.shape[1]):\n",
        "        single_patch = patches[i,j,:,:, :] / 255.   # normalize\n",
        "        single_patch = np.expand_dims(single_patch, axis=0) # (256,256,3) to (1,256,256,3)\n",
        "        single_patch_prediction = (model.predict(single_patch) > 0.5).astype(np.uint8)\n",
        "        predicted_patches.append(single_patch_prediction[0, :, :])\n",
        "\n",
        "\n",
        "predicted_patches_reshaped = np.reshape(predicted_patches, [patches.shape[0], patches.shape[1], patches.shape[2], patches.shape[3]]) \n",
        "reconstructed_image = unpatchify(predicted_patches_reshaped, (test_image.shape[0], test_image.shape[1]))\n",
        "cv2_imshow(reconstructed_image * 255.) # multiply to visualize graph\n"
      ],
      "metadata": {
        "id": "zMqnGYiqMIIG"
      },
      "execution_count": null,
      "outputs": []
    },
    {
      "cell_type": "code",
      "source": [
        "# !pip install patchify\n",
        "from mitosisDEEP.evaluateLargeImageProcess import EvaluateLargeImageProcess\n",
        "\n",
        "evalImg = EvaluateLargeImageProcess(df=testDF, img_path='/content/drive/MyDrive/mitosis_data', model=model, output_info='output')"
      ],
      "metadata": {
        "id": "i7u018KqQRc4"
      },
      "execution_count": null,
      "outputs": []
    },
    {
      "cell_type": "code",
      "source": [
        "# test_path = 'drive/MyDrive/mitosis_data/A00_01.bmp'\n",
        "# test_path = 'drive/MyDrive/mitosis_data/A01_09.bmp'  # validation\n",
        "# test_path = 'drive/MyDrive/mitosis_data/30.jpg'   \n",
        "# test_path = 'drive/MyDrive/mitosis_data/23.jpg' \n",
        "\n",
        "testDF= pd.DataFrame({'id': ['A00_01.bmp','A01_09.bmp', '30.jpg', '23.jpg']})\n",
        "testDF"
      ],
      "metadata": {
        "colab": {
          "base_uri": "https://localhost:8080/",
          "height": 175
        },
        "id": "5Rt1PBptRyqQ",
        "outputId": "fd9ab2b9-bcaa-469b-d0df-0f347b4911ec"
      },
      "execution_count": null,
      "outputs": [
        {
          "output_type": "execute_result",
          "data": {
            "text/html": [
              "\n",
              "  <div id=\"df-9baeb6e9-ea78-472b-a68c-912a7c2c9e17\">\n",
              "    <div class=\"colab-df-container\">\n",
              "      <div>\n",
              "<style scoped>\n",
              "    .dataframe tbody tr th:only-of-type {\n",
              "        vertical-align: middle;\n",
              "    }\n",
              "\n",
              "    .dataframe tbody tr th {\n",
              "        vertical-align: top;\n",
              "    }\n",
              "\n",
              "    .dataframe thead th {\n",
              "        text-align: right;\n",
              "    }\n",
              "</style>\n",
              "<table border=\"1\" class=\"dataframe\">\n",
              "  <thead>\n",
              "    <tr style=\"text-align: right;\">\n",
              "      <th></th>\n",
              "      <th>id</th>\n",
              "    </tr>\n",
              "  </thead>\n",
              "  <tbody>\n",
              "    <tr>\n",
              "      <th>0</th>\n",
              "      <td>A00_01.bmp</td>\n",
              "    </tr>\n",
              "    <tr>\n",
              "      <th>1</th>\n",
              "      <td>A01_09.bmp</td>\n",
              "    </tr>\n",
              "    <tr>\n",
              "      <th>2</th>\n",
              "      <td>30.jpg</td>\n",
              "    </tr>\n",
              "    <tr>\n",
              "      <th>3</th>\n",
              "      <td>23.jpg</td>\n",
              "    </tr>\n",
              "  </tbody>\n",
              "</table>\n",
              "</div>\n",
              "      <button class=\"colab-df-convert\" onclick=\"convertToInteractive('df-9baeb6e9-ea78-472b-a68c-912a7c2c9e17')\"\n",
              "              title=\"Convert this dataframe to an interactive table.\"\n",
              "              style=\"display:none;\">\n",
              "        \n",
              "  <svg xmlns=\"http://www.w3.org/2000/svg\" height=\"24px\"viewBox=\"0 0 24 24\"\n",
              "       width=\"24px\">\n",
              "    <path d=\"M0 0h24v24H0V0z\" fill=\"none\"/>\n",
              "    <path d=\"M18.56 5.44l.94 2.06.94-2.06 2.06-.94-2.06-.94-.94-2.06-.94 2.06-2.06.94zm-11 1L8.5 8.5l.94-2.06 2.06-.94-2.06-.94L8.5 2.5l-.94 2.06-2.06.94zm10 10l.94 2.06.94-2.06 2.06-.94-2.06-.94-.94-2.06-.94 2.06-2.06.94z\"/><path d=\"M17.41 7.96l-1.37-1.37c-.4-.4-.92-.59-1.43-.59-.52 0-1.04.2-1.43.59L10.3 9.45l-7.72 7.72c-.78.78-.78 2.05 0 2.83L4 21.41c.39.39.9.59 1.41.59.51 0 1.02-.2 1.41-.59l7.78-7.78 2.81-2.81c.8-.78.8-2.07 0-2.86zM5.41 20L4 18.59l7.72-7.72 1.47 1.35L5.41 20z\"/>\n",
              "  </svg>\n",
              "      </button>\n",
              "      \n",
              "  <style>\n",
              "    .colab-df-container {\n",
              "      display:flex;\n",
              "      flex-wrap:wrap;\n",
              "      gap: 12px;\n",
              "    }\n",
              "\n",
              "    .colab-df-convert {\n",
              "      background-color: #E8F0FE;\n",
              "      border: none;\n",
              "      border-radius: 50%;\n",
              "      cursor: pointer;\n",
              "      display: none;\n",
              "      fill: #1967D2;\n",
              "      height: 32px;\n",
              "      padding: 0 0 0 0;\n",
              "      width: 32px;\n",
              "    }\n",
              "\n",
              "    .colab-df-convert:hover {\n",
              "      background-color: #E2EBFA;\n",
              "      box-shadow: 0px 1px 2px rgba(60, 64, 67, 0.3), 0px 1px 3px 1px rgba(60, 64, 67, 0.15);\n",
              "      fill: #174EA6;\n",
              "    }\n",
              "\n",
              "    [theme=dark] .colab-df-convert {\n",
              "      background-color: #3B4455;\n",
              "      fill: #D2E3FC;\n",
              "    }\n",
              "\n",
              "    [theme=dark] .colab-df-convert:hover {\n",
              "      background-color: #434B5C;\n",
              "      box-shadow: 0px 1px 3px 1px rgba(0, 0, 0, 0.15);\n",
              "      filter: drop-shadow(0px 1px 2px rgba(0, 0, 0, 0.3));\n",
              "      fill: #FFFFFF;\n",
              "    }\n",
              "  </style>\n",
              "\n",
              "      <script>\n",
              "        const buttonEl =\n",
              "          document.querySelector('#df-9baeb6e9-ea78-472b-a68c-912a7c2c9e17 button.colab-df-convert');\n",
              "        buttonEl.style.display =\n",
              "          google.colab.kernel.accessAllowed ? 'block' : 'none';\n",
              "\n",
              "        async function convertToInteractive(key) {\n",
              "          const element = document.querySelector('#df-9baeb6e9-ea78-472b-a68c-912a7c2c9e17');\n",
              "          const dataTable =\n",
              "            await google.colab.kernel.invokeFunction('convertToInteractive',\n",
              "                                                     [key], {});\n",
              "          if (!dataTable) return;\n",
              "\n",
              "          const docLinkHtml = 'Like what you see? Visit the ' +\n",
              "            '<a target=\"_blank\" href=https://colab.research.google.com/notebooks/data_table.ipynb>data table notebook</a>'\n",
              "            + ' to learn more about interactive tables.';\n",
              "          element.innerHTML = '';\n",
              "          dataTable['output_type'] = 'display_data';\n",
              "          await google.colab.output.renderOutput(dataTable, element);\n",
              "          const docLink = document.createElement('div');\n",
              "          docLink.innerHTML = docLinkHtml;\n",
              "          element.appendChild(docLink);\n",
              "        }\n",
              "      </script>\n",
              "    </div>\n",
              "  </div>\n",
              "  "
            ],
            "text/plain": [
              "           id\n",
              "0  A00_01.bmp\n",
              "1  A01_09.bmp\n",
              "2      30.jpg\n",
              "3      23.jpg"
            ]
          },
          "metadata": {},
          "execution_count": 10
        }
      ]
    },
    {
      "cell_type": "code",
      "source": [
        "import logging\n",
        "logging.getLogger().setLevel(logging.INFO)\n",
        "evalImg.run(dict())"
      ],
      "metadata": {
        "colab": {
          "base_uri": "https://localhost:8080/"
        },
        "id": "WM-jwZhnSZZc",
        "outputId": "e89f3d97-7615-457e-a2eb-afd223edffd5"
      },
      "execution_count": null,
      "outputs": [
        {
          "output_type": "stream",
          "name": "stderr",
          "text": [
            "INFO:root:__predict image: A00_01.bmp\n",
            "INFO:root:test image size: (2084, 2084)\n",
            "INFO:root:test image resized size: (2048, 2048)\n",
            "INFO:root:__predict patches\n",
            "INFO:root:__reconstruct image with patches\n",
            "INFO:root:__predict image: A01_09.bmp\n",
            "INFO:root:test image size: (2084, 2084)\n",
            "INFO:root:test image resized size: (2048, 2048)\n",
            "INFO:root:__predict patches\n",
            "INFO:root:__reconstruct image with patches\n",
            "INFO:root:__predict image: 30.jpg\n",
            "INFO:root:test image size: (1377, 2560)\n",
            "INFO:root:test image resized size: (1280, 2560)\n",
            "INFO:root:__predict patches\n",
            "INFO:root:__reconstruct image with patches\n",
            "INFO:root:__predict image: 23.jpg\n",
            "INFO:root:test image size: (1173, 2560)\n",
            "INFO:root:test image resized size: (1024, 2560)\n",
            "INFO:root:__predict patches\n",
            "INFO:root:__reconstruct image with patches\n"
          ]
        }
      ]
    }
  ],
  "metadata": {
    "accelerator": "GPU",
    "colab": {
      "collapsed_sections": [],
      "name": "dataGeneratorTrain.ipynb",
      "provenance": [],
      "authorship_tag": "ABX9TyNvg0TWFKLu+D8ofW2D+pZG",
      "include_colab_link": true
    },
    "kernelspec": {
      "display_name": "Python 3",
      "name": "python3"
    },
    "language_info": {
      "name": "python"
    }
  },
  "nbformat": 4,
  "nbformat_minor": 0
}
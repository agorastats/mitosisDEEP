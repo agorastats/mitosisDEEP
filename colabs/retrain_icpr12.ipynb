{
  "nbformat": 4,
  "nbformat_minor": 0,
  "metadata": {
    "colab": {
      "name": "retrain_icpr12.ipynb",
      "provenance": [],
      "collapsed_sections": [],
      "mount_file_id": "1fpqHiNtyLY5gmBPw2YpFFGmGckl9j3y1",
      "authorship_tag": "ABX9TyPA9y5mbHrhjI2s8kDhsFsZ",
      "include_colab_link": true
    },
    "kernelspec": {
      "name": "python3",
      "display_name": "Python 3"
    },
    "language_info": {
      "name": "python"
    },
    "accelerator": "GPU"
  },
  "cells": [
    {
      "cell_type": "markdown",
      "metadata": {
        "id": "view-in-github",
        "colab_type": "text"
      },
      "source": [
        "<a href=\"https://colab.research.google.com/github/agorastats/mitosisDEEP/blob/master/colabs/retrain_icpr12.ipynb\" target=\"_parent\"><img src=\"https://colab.research.google.com/assets/colab-badge.svg\" alt=\"Open In Colab\"/></a>"
      ]
    },
    {
      "cell_type": "code",
      "metadata": {
        "id": "kTpGvBbNjDSZ"
      },
      "source": [
        "# todo\n",
        "# train with autoencoders: https://www.youtube.com/watch?v=hTpq9lzAb8M&t=710s"
      ],
      "execution_count": null,
      "outputs": []
    },
    {
      "cell_type": "code",
      "metadata": {
        "id": "-DTOp_THRoIK"
      },
      "source": [
        "# import packages\n",
        "import os\n",
        "import tensorflow as tf\n",
        "import numpy as np \n",
        "import random\n",
        "import cv2\n",
        "from tensorflow import keras"
      ],
      "execution_count": 2,
      "outputs": []
    },
    {
      "cell_type": "code",
      "metadata": {
        "colab": {
          "base_uri": "https://localhost:8080/"
        },
        "id": "Cgojys3kRfH0",
        "outputId": "fbcf0526-37f2-43ef-828c-5c2f64ca4168"
      },
      "source": [
        "from google.colab import drive\n",
        "drive.mount('/content/drive/',force_remount=True)\n"
      ],
      "execution_count": 1,
      "outputs": [
        {
          "output_type": "stream",
          "name": "stdout",
          "text": [
            "Mounted at /content/drive/\n"
          ]
        }
      ]
    },
    {
      "cell_type": "code",
      "metadata": {
        "id": "8AdEqd_0-4lC"
      },
      "source": [
        "# utils\n",
        "\n",
        "MAX_SIZE = 255.\n",
        "\n",
        "def image_normalize(img):\n",
        "    img = np.asarray(img, dtype=np.float64)\n",
        "    if img.max() > 1.0:\n",
        "        img /= MAX_SIZE\n",
        "    return img\n",
        "\n",
        "def read_and_normalize_image(filename, convert=None):\n",
        "    assert os.path.exists(filename), 'Problems reading filename %s' % filename\n",
        "    image = cv2.imread(filename)\n",
        "    if convert is not None:\n",
        "        image = cv2.cvtColor(image, convert)\n",
        "    image = image_normalize(image)\n",
        "    # return img2np(image)\n",
        "    return image\n",
        "\n",
        "def read_and_normalize_patches_of_folder(folder_path, convert=None):\n",
        "    all_patches_files = [f for f in os.listdir(folder_path) if f.endswith('.jpg')]\n",
        "    print('total patches: ', len(all_patches_files))\n",
        "    all_patches_list = []\n",
        "    for i, patch in enumerate(all_patches_files):\n",
        "        if i%500==0:\n",
        "          print('processed number of patches: %i' % i)\n",
        "        all_patches_list.append(read_and_normalize_image(os.path.join(folder_path, patch), convert=convert))\n",
        "    return all_patches_list\n",
        "\n"
      ],
      "execution_count": 151,
      "outputs": []
    },
    {
      "cell_type": "code",
      "metadata": {
        "id": "ioVr1dh4UCI3"
      },
      "source": [
        "dir_path = 'drive/MyDrive/mitosis_data'\n",
        "\n",
        "# images_path = os.path.join(dir_path, 'images_aug')\n",
        "# masks_path = os.path.join(dir_path, 'masks_aug')\n",
        "!unzip '/content/drive/MyDrive/mitosis_data/images_aug.zip' -d \"/content/images_aug\"\n",
        "!unzip '/content/drive/MyDrive/mitosis_data/masks_aug.zip' -d \"/content/masks_aug\""
      ],
      "execution_count": null,
      "outputs": []
    },
    {
      "cell_type": "code",
      "metadata": {
        "colab": {
          "base_uri": "https://localhost:8080/"
        },
        "id": "onEVBaL2YFiO",
        "outputId": "a3854860-84c6-4b10-9478-2908b30ccb96"
      },
      "source": [
        "images_list = read_and_normalize_patches_of_folder('/content/images_aug/images_aug', convert=None)\n",
        "masks_list = read_and_normalize_patches_of_folder('/content/masks_aug/masks_aug', convert=cv2.COLOR_BGR2GRAY)\n",
        "\n",
        "images = np.array(images_list)\n",
        "masks = np.array(masks_list)\n",
        "masks = np.expand_dims(masks, -1)\n",
        "print('total images patches: ', np.array(images).shape)\n",
        "print('total masks patches: ', np.array(masks).shape)"
      ],
      "execution_count": 33,
      "outputs": [
        {
          "output_type": "stream",
          "name": "stdout",
          "text": [
            "total patches:  2712\n",
            "processed number of patches: 0\n",
            "processed number of patches: 500\n",
            "processed number of patches: 1000\n",
            "processed number of patches: 1500\n",
            "processed number of patches: 2000\n",
            "processed number of patches: 2500\n",
            "total patches:  2712\n",
            "processed number of patches: 0\n",
            "processed number of patches: 500\n",
            "processed number of patches: 1000\n",
            "processed number of patches: 1500\n",
            "processed number of patches: 2000\n",
            "processed number of patches: 2500\n",
            "total images patches:  (2712, 256, 256, 3)\n",
            "total masks patches:  (2712, 256, 256, 1)\n"
          ]
        }
      ]
    },
    {
      "cell_type": "code",
      "metadata": {
        "id": "eEGgyKC_CmTo"
      },
      "source": [
        "# utils keras\n",
        "from keras import backend as K\n",
        "\n",
        "# ref: https://github.com/nauyan/Segmentation/blob/master/Code/utils/lossfunctions.py\n",
        "# ref: https://github.com/nauyan/Segmentation/blob/master/Code/utils/metricfunctions.py\n",
        "\n",
        "def dice_loss(y_true, y_pred):\n",
        "  numerator = 2 * tf.reduce_sum(y_true * y_pred, axis=(1,2,3))\n",
        "  denominator = tf.reduce_sum(y_true + y_pred, axis=(1,2,3))\n",
        "  return 1 - numerator / denominator\n",
        "\n",
        "def dice_coef(y_true, y_pred):\n",
        "    y_true_f = K.flatten(y_true)\n",
        "    y_pred_f = K.flatten(y_pred)\n",
        "    intersection = K.sum(y_true_f * y_pred_f)\n",
        "    return (2. * intersection + K.epsilon()) / (K.sum(y_true_f) + K.sum(y_pred_f) + K.epsilon())"
      ],
      "execution_count": 34,
      "outputs": []
    },
    {
      "cell_type": "code",
      "metadata": {
        "id": "27PYwJRXdULA"
      },
      "source": [
        "# load trained model\n",
        "from keras.models import load_model\n",
        "model = load_model(\"drive/MyDrive/mitosis_data/UNET-Best.h5\", compile=False)\n",
        "model.save_weights(\"drive/MyDrive/mitosis_data/pretrained_weights.h5\")\n",
        "# build model\n",
        "model.compile(optimizer='adam', loss='binary_crossentropy', metrics=[dice_coef, 'accuracy'])\n",
        "# model.summary()\n",
        "model.load_weights(\"drive/MyDrive/mitosis_data/pretrained_weights.h5\")"
      ],
      "execution_count": 35,
      "outputs": []
    },
    {
      "cell_type": "code",
      "metadata": {
        "id": "uo5YM0oUg9Ab"
      },
      "source": [
        "seed_val=24\n",
        "from keras.preprocessing.image import ImageDataGenerator\n",
        "\n",
        "# img_data_gen_args = dict(rescale=1. / 255,\n",
        "#                      rotation_range=90,\n",
        "#                      width_shift_range=0.3,\n",
        "#                      height_shift_range=0.3,\n",
        "#                      shear_range=0.5,\n",
        "#                      zoom_range=0.3,\n",
        "#                      horizontal_flip=True,\n",
        "#                      vertical_flip=True,\n",
        "#                      fill_mode='reflect')\n",
        "\n",
        "# mask_data_gen_args = dict(rescale=1. / 255,\n",
        "#                      rotation_range=90,\n",
        "#                      width_shift_range=0.3,\n",
        "#                      height_shift_range=0.3,\n",
        "#                      shear_range=0.5,\n",
        "#                      zoom_range=0.3,\n",
        "#                      horizontal_flip=True,\n",
        "#                      vertical_flip=True,\n",
        "#                      fill_mode='reflect',\n",
        "#                      preprocessing_function = lambda x: np.where(x>0, 1, 0).astype(x.dtype)) #Binarize the output again. \n",
        "\n",
        "from sklearn.model_selection import train_test_split\n",
        "X_train, X_test, y_train, y_test = train_test_split(images, masks, test_size=0.33)\n",
        "\n",
        "image_data_generator = ImageDataGenerator()\n",
        "# image_data_generator.fit(X_train, augment=True, seed=seed_val)\n",
        "image_data_generator.fit(X_train)\n",
        "# image_generator = image_data_generator.flow(X_train, seed=seed_val)\n",
        "image_generator = image_data_generator.flow(X_train, seed=seed_val)\n",
        "valid_img_generator = image_data_generator.flow(X_test, seed=seed_val)\n",
        "\n",
        "# mask_data_generator = ImageDataGenerator(**mask_data_gen_args)\n",
        "mask_data_generator = ImageDataGenerator()\n",
        "# mask_data_generator.fit(y_train, augment=True, seed=seed_val)\n",
        "mask_data_generator.fit(y_train)\n",
        "mask_generator = mask_data_generator.flow(y_train, seed=seed_val)\n",
        "valid_mask_generator = mask_data_generator.flow(y_test, seed=seed_val)\n",
        "\n",
        "def my_image_mask_generator(image_generator, mask_generator):\n",
        "    train_generator = zip(image_generator, mask_generator)\n",
        "    for (img, mask) in train_generator:\n",
        "        yield (img, mask)\n",
        "\n",
        "my_generator = my_image_mask_generator(image_generator, mask_generator)\n",
        "validation_datagen = my_image_mask_generator(valid_img_generator, valid_mask_generator)"
      ],
      "execution_count": 39,
      "outputs": []
    },
    {
      "cell_type": "code",
      "metadata": {
        "colab": {
          "base_uri": "https://localhost:8080/"
        },
        "id": "FsHJCHsWi465",
        "outputId": "039e19ae-3e74-4ccc-b836-8ac4354ad7d0"
      },
      "source": [
        "# train model\n",
        "callback = tf.keras.callbacks.EarlyStopping(monitor='loss', patience=3)\n",
        "steps_per_epoch = 20\n",
        "history = model.fit(my_generator, validation_data=validation_datagen, steps_per_epoch=steps_per_epoch,\n",
        "                    validation_steps=steps_per_epoch, epochs=10, callbacks=[callback])"
      ],
      "execution_count": 43,
      "outputs": [
        {
          "output_type": "stream",
          "name": "stdout",
          "text": [
            "Epoch 1/10\n",
            "20/20 [==============================] - 24s 1s/step - loss: -128.8238 - dice_coef: 1.8855 - accuracy: 0.9547 - val_loss: 7.3634 - val_dice_coef: 0.2909 - val_accuracy: 0.9783\n",
            "Epoch 2/10\n",
            "20/20 [==============================] - 19s 978ms/step - loss: -134.9072 - dice_coef: 1.8603 - accuracy: 0.9488 - val_loss: 1.0276 - val_dice_coef: 0.4663 - val_accuracy: 0.9786\n",
            "Epoch 3/10\n",
            "20/20 [==============================] - 19s 981ms/step - loss: -148.0566 - dice_coef: 1.8685 - accuracy: 0.9448 - val_loss: -16.5572 - val_dice_coef: 0.8807 - val_accuracy: 0.9784\n",
            "Epoch 4/10\n",
            "20/20 [==============================] - 19s 974ms/step - loss: -156.1822 - dice_coef: 1.8832 - accuracy: 0.9412 - val_loss: -33.7982 - val_dice_coef: 1.0632 - val_accuracy: 0.9781\n",
            "Epoch 5/10\n",
            "20/20 [==============================] - 19s 981ms/step - loss: -161.5583 - dice_coef: 1.8641 - accuracy: 0.9310 - val_loss: -45.3175 - val_dice_coef: 1.4408 - val_accuracy: 0.9753\n",
            "Epoch 6/10\n",
            "20/20 [==============================] - 19s 975ms/step - loss: -172.5798 - dice_coef: 1.8651 - accuracy: 0.9107 - val_loss: -66.8441 - val_dice_coef: 1.6346 - val_accuracy: 0.9745\n",
            "Epoch 7/10\n",
            "20/20 [==============================] - 19s 983ms/step - loss: -181.4771 - dice_coef: 1.8692 - accuracy: 0.8900 - val_loss: -80.1963 - val_dice_coef: 1.5999 - val_accuracy: 0.9677\n",
            "Epoch 8/10\n",
            "20/20 [==============================] - 19s 982ms/step - loss: -192.1401 - dice_coef: 1.8735 - accuracy: 0.8871 - val_loss: -70.9343 - val_dice_coef: 1.6902 - val_accuracy: 0.9690\n",
            "Epoch 9/10\n",
            "20/20 [==============================] - 19s 972ms/step - loss: -191.9224 - dice_coef: 1.8729 - accuracy: 0.9074 - val_loss: -97.6341 - val_dice_coef: 1.6465 - val_accuracy: 0.9668\n",
            "Epoch 10/10\n",
            "20/20 [==============================] - 19s 981ms/step - loss: -206.2330 - dice_coef: 1.8784 - accuracy: 0.8937 - val_loss: -52.9941 - val_dice_coef: 1.7660 - val_accuracy: 0.9653\n"
          ]
        }
      ]
    },
    {
      "cell_type": "code",
      "metadata": {
        "colab": {
          "base_uri": "https://localhost:8080/",
          "height": 295
        },
        "id": "CSd7MmoKjCsv",
        "outputId": "5356fe17-0ecb-4e0a-dfd5-5544b57a8af0"
      },
      "source": [
        "#plot the training and validation accuracy and loss at each epoch\n",
        "loss = history.history['loss']\n",
        "val_loss = history.history['val_loss']\n",
        "epochs = range(1, len(loss) + 1)\n",
        "plt.plot(epochs, loss, 'y', label='Training loss')\n",
        "plt.plot(epochs, val_loss, 'r', label='Validation loss')\n",
        "plt.title('Training and validation loss')\n",
        "plt.xlabel('Epochs')\n",
        "plt.ylabel('accuracy')\n",
        "plt.legend()\n",
        "plt.show()"
      ],
      "execution_count": 185,
      "outputs": [
        {
          "output_type": "display_data",
          "data": {
            "image/png": "[encoded data removed]",
            "text/plain": [
              "<Figure size 432x288 with 1 Axes>"
            ]
          },
          "metadata": {
            "needs_background": "light"
          }
        }
      ]
    },
    {
      "cell_type": "code",
      "metadata": {
        "colab": {
          "base_uri": "https://localhost:8080/",
          "height": 624
        },
        "id": "kindb8TRUm4I",
        "outputId": "f35d8ad6-4785-4a80-88fd-ac3a7a6bdf96"
      },
      "source": [
        "# ref: https://www.youtube.com/watch?v=HrGn4uFrMOM\n",
        "# predict on some images\n",
        "from google.colab.patches import cv2_imshow\n",
        "# !pip install patchify\n",
        "from patchify import patchify, unpatchify\n",
        "PATCH_SIZE  = 256\n",
        "test_path = 'drive/MyDrive/mitosis_data/23.jpg'\n",
        "test_image = read_and_normalize_image(test_path)\n",
        "\n",
        "size_x = (test_image.shape[1]//PATCH_SIZE)*patch_size   # nearest size divisible by our patch size\n",
        "size_y = (test_image.shape[0]//PATCH_SIZE)*patch_size   # nearest size divisible by our patch size\n",
        "print('test image size: ', test_image.shape)\n",
        "test_image = cv2.resize(test_image, (size_x, size_y))\n",
        "print('test image resized size: ', test_image.shape)\n",
        "\n",
        "# test_image = cv2.imread(test_path)\n",
        "patches = patchify(test_image, (256, 256, 3), step=256)\n",
        "patches = patches[:, :, 0, :, :, :]\n",
        "predicted_patches = []\n",
        "for i in range(patches.shape[0]):\n",
        "    for j in range(patches.shape[1]):\n",
        "        single_patch = patches[i,j,:,:, :]\n",
        "        single_patch = np.expand_dims(single_patch, axis=0) # (256,256,3) to (1,256,256,3)\n",
        "        # Predict and threshold for values above 0.5 probability\n",
        "        single_patch_prediction = (model.predict(single_patch) > 0.5).astype(np.uint8)\n",
        "        predicted_patches.append(single_patch_prediction[0, :, :])\n",
        "\n",
        "\n",
        "predicted_patches_reshaped = np.reshape(predicted_patches, [patches.shape[0], patches.shape[1], patches.shape[2], patches.shape[3]]) \n",
        "reconstructed_image = unpatchify(predicted_patches_reshaped, (test_image.shape[0], test_image.shape[1]))\n",
        "cv2_imshow(reconstructed_image)\n"
      ],
      "execution_count": 244,
      "outputs": [
        {
          "output_type": "stream",
          "name": "stdout",
          "text": [
            "test image size:  (1173, 2560, 3)\n",
            "test image resized size:  (1024, 2560, 3)\n"
          ]
        },
        {
          "output_type": "display_data",
          "data": {
            "image/png": "[encoded data removed]",
            "text/plain": [
              "<PIL.Image.Image image mode=L size=2560x1024 at 0x7F91187687D0>"
            ]
          },
          "metadata": {}
        }
      ]
    }
  ]
}